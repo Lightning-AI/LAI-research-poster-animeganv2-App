{
 "cells": [
  {
   "cell_type": "code",
   "execution_count": 2,
   "id": "1c8a33e4-9ed6-455f-89dc-bc14a2b9931c",
   "metadata": {},
   "outputs": [],
   "source": [
    "from lightning.utilities.state import AppState"
   ]
  },
  {
   "cell_type": "code",
   "execution_count": 3,
   "id": "254ec54a-a497-4456-891f-0c31cb67922a",
   "metadata": {},
   "outputs": [
    {
     "data": {
      "text/plain": [
       "{'vars': {'_paths': {}, '_layout': [{'name': 'Jupyter', 'content': 'http://127.0.0.1:8888', 'target': 'http://127.0.0.1:8888'}]}, 'calls': {}, 'flows': {}, 'works': {'jupyter': {'vars': {'pid': 26114, '_urls': {'jupyter': 'http://127.0.0.1:8888'}, '_paths': {}, 'port': 8888, 'exit_code': 0, 'host': '127.0.0.1', '_restarting': False}, 'calls': {'latest_call_hash': 'run:fe3fa0f34fc1317e152e5afb023332995392071046f1ea51c34c7c9766e3676c', 'run:fe3fa0f34fc1317e152e5afb023332995392071046f1ea51c34c7c9766e3676c': {'name': 'run', 'call_hash': 'run:fe3fa0f34fc1317e152e5afb023332995392071046f1ea51c34c7c9766e3676c', 'use_args': False, 'statuses': [{'stage': 'pending', 'message': None, 'reason': None, 'timestamp': 1649755852.45529}, {'stage': 'running', 'message': None, 'reason': None, 'timestamp': 1649755852.45702}]}}, 'changes': {}}}, 'changes': {}, 'app_state': {'stage': 'running'}}"
      ]
     },
     "execution_count": 3,
     "metadata": {},
     "output_type": "execute_result"
    }
   ],
   "source": [
    "AppState()"
   ]
  },
  {
   "cell_type": "code",
   "execution_count": null,
   "id": "10e71250-e5ec-4887-9ecf-a81523e3fe85",
   "metadata": {},
   "outputs": [],
   "source": []
  }
 ],
 "metadata": {
  "kernelspec": {
   "display_name": "Python 3 (ipykernel)",
   "language": "python",
   "name": "python3"
  },
  "language_info": {
   "codemirror_mode": {
    "name": "ipython",
    "version": 3
   },
   "file_extension": ".py",
   "mimetype": "text/x-python",
   "name": "python",
   "nbconvert_exporter": "python",
   "pygments_lexer": "ipython3",
   "version": "3.9.1"
  }
 },
 "nbformat": 4,
 "nbformat_minor": 5
}
